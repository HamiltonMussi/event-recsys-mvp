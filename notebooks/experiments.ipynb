{
 "cells": [
  {
   "cell_type": "markdown",
   "metadata": {},
   "source": [
    "# Event Recommendation System - Temporal Evaluation"
   ]
  },
  {
   "cell_type": "code",
   "execution_count": 15,
   "metadata": {},
   "outputs": [],
   "source": [
    "import sys\n",
    "from pathlib import Path\n",
    "import pandas as pd\n",
    "import numpy as np\n",
    "\n",
    "sys.path.append(str(Path.cwd().parent))\n",
    "\n",
    "from models.content_based import ContentBasedRecommender\n",
    "from models.collaborative import CollaborativeFilteringRecommender\n",
    "from models.social import SocialRecommender\n",
    "from models.hybrid import HybridRecommender\n",
    "from utils.metrics import mean_average_precision_at_k\n",
    "from utils.temporal_split import temporal_split_per_user, print_split_stats"
   ]
  },
  {
   "cell_type": "markdown",
   "metadata": {},
   "source": [
    "## 1. Load and Split Data"
   ]
  },
  {
   "cell_type": "code",
   "execution_count": 16,
   "metadata": {},
   "outputs": [
    {
     "name": "stdout",
     "output_type": "stream",
     "text": [
      "Raw train data: 15398 interactions\n",
      "Events: 3137972\n",
      "Event attendees: 24144\n"
     ]
    }
   ],
   "source": [
    "raw_dir = Path(\"../data/raw\")\n",
    "\n",
    "train_raw = pd.read_csv(raw_dir / \"train.csv\")\n",
    "events_raw = pd.read_csv(raw_dir / \"events.csv\")\n",
    "event_attendees = pd.read_csv(raw_dir / \"event_attendees.csv\")\n",
    "user_friends = pd.read_csv(raw_dir / \"user_friends.csv\")\n",
    "\n",
    "print(f\"Raw train data: {len(train_raw)} interactions\")\n",
    "print(f\"Events: {len(events_raw)}\")\n",
    "print(f\"Event attendees: {len(event_attendees)}\")"
   ]
  },
  {
   "cell_type": "code",
   "execution_count": 17,
   "metadata": {},
   "outputs": [
    {
     "name": "stdout",
     "output_type": "stream",
     "text": [
      "============================================================\n",
      "TEMPORAL SPLIT STATISTICS\n",
      "============================================================\n",
      "\n",
      "TRAIN SET:\n",
      "  Total interactions: 9955\n",
      "  Unique users: 2034\n",
      "  Unique events: 6136\n",
      "  Interested=1: 1954\n",
      "\n",
      "VALIDATION SET:\n",
      "  Total interactions: 5443\n",
      "  Unique users: 2034\n",
      "  Unique events: 3660\n",
      "  Interested=1: 2177\n",
      "\n",
      "OVERLAP:\n",
      "  Users in both: 2034\n",
      "  Events in both: 950\n",
      "============================================================\n"
     ]
    }
   ],
   "source": [
    "train_df, val_df = temporal_split_per_user(train_raw, train_ratio=0.7, min_interactions=3)\n",
    "\n",
    "print_split_stats(train_df, val_df)"
   ]
  },
  {
   "cell_type": "markdown",
   "metadata": {},
   "source": [
    "## 2. Preprocess Events Data\n",
    "\n",
    "This cell processes events (K-means clustering, feature extraction) only if not already cached. Subsequent runs will load from cache."
   ]
  },
  {
   "cell_type": "code",
   "execution_count": 18,
   "metadata": {},
   "outputs": [
    {
     "name": "stdout",
     "output_type": "stream",
     "text": [
      "Loading cached processed events...\n",
      "Processed events shape: (3137972, 113)\n",
      "Event categories: 30\n"
     ]
    }
   ],
   "source": [
    "from utils.preprocessing import EventFeatureExtractor\n",
    "\n",
    "processed_events_path = Path(\"../data/processed/events_processed.csv\")\n",
    "\n",
    "if processed_events_path.exists():\n",
    "    print(\"Loading cached processed events...\")\n",
    "    events = pd.read_csv(processed_events_path)\n",
    "else:\n",
    "    print(\"Processing events (this will take a few minutes)...\")\n",
    "    extractor = EventFeatureExtractor(n_clusters=30)\n",
    "    events = extractor.fit_transform(events_raw)\n",
    "    events.to_csv(processed_events_path, index=False)\n",
    "    print(\"Events processed and cached!\")\n",
    "\n",
    "print(f\"Processed events shape: {events.shape}\")\n",
    "print(f\"Event categories: {events['event_category'].nunique()}\")"
   ]
  },
  {
   "cell_type": "markdown",
   "metadata": {},
   "source": [
    "## 3. Hyperparameters"
   ]
  },
  {
   "cell_type": "code",
   "execution_count": 22,
   "metadata": {},
   "outputs": [],
   "source": [
    "CONTENT_BASED_PARAMS = {\n",
    "    \"weight_purchase\": 3.0,\n",
    "    \"weight_interested\": 1.0,\n",
    "    \"temporal_decay\": 0.01\n",
    "}\n",
    "\n",
    "K = 200\n",
    "N_TEST_USERS = 100"
   ]
  },
  {
   "cell_type": "markdown",
   "metadata": {},
   "source": [
    "## 4. Train Content-Based Model"
   ]
  },
  {
   "cell_type": "code",
   "execution_count": 23,
   "metadata": {},
   "outputs": [
    {
     "name": "stdout",
     "output_type": "stream",
     "text": [
      "Training Content-Based model...\n",
      "Training complete!\n"
     ]
    }
   ],
   "source": [
    "print(\"Training Content-Based model...\")\n",
    "cb_model = ContentBasedRecommender(**CONTENT_BASED_PARAMS)\n",
    "cb_model.fit(events, train_df, event_attendees)\n",
    "print(\"Training complete!\")"
   ]
  },
  {
   "cell_type": "markdown",
   "metadata": {},
   "source": [
    "## 5. Evaluate on Validation Set"
   ]
  },
  {
   "cell_type": "code",
   "execution_count": 24,
   "metadata": {},
   "outputs": [
    {
     "name": "stdout",
     "output_type": "stream",
     "text": [
      "Evaluating on 100 users...\n",
      "\n",
      "Content-Based MAP@200: 0.00032\n"
     ]
    }
   ],
   "source": [
    "test_users = val_df[\"user\"].unique()\n",
    "if N_TEST_USERS:\n",
    "    test_users = test_users[:N_TEST_USERS]\n",
    "\n",
    "print(f\"Evaluating on {len(test_users)} users...\")\n",
    "\n",
    "cb_predictions = {}\n",
    "actuals = {}\n",
    "\n",
    "for user in test_users:\n",
    "    cb_predictions[user] = cb_model.recommend(user, n=K, exclude_seen=True)\n",
    "    actuals[user] = val_df[\n",
    "        (val_df[\"user\"] == user) & (val_df[\"interested\"] == 1)\n",
    "    ][\"event\"].tolist()\n",
    "\n",
    "cb_map = mean_average_precision_at_k(actuals, cb_predictions, k=K)\n",
    "print(f\"\\nContent-Based MAP@{K}: {cb_map:.5f}\")"
   ]
  },
  {
   "cell_type": "markdown",
   "metadata": {},
   "source": [
    "## 6. Debug: Check Sample Predictions"
   ]
  },
  {
   "cell_type": "code",
   "execution_count": 25,
   "metadata": {},
   "outputs": [
    {
     "name": "stdout",
     "output_type": "stream",
     "text": [
      "\n",
      "User 3044012:\n",
      "  Predicted: 200 events\n",
      "  Actual interested: 0 events\n",
      "  Overlap: 0 events\n",
      "\n",
      "User 4236494:\n",
      "  Predicted: 200 events\n",
      "  Actual interested: 2 events\n",
      "  Overlap: 0 events\n",
      "  Recall@200: 0.000\n",
      "\n",
      "User 5574997:\n",
      "  Predicted: 200 events\n",
      "  Actual interested: 0 events\n",
      "  Overlap: 0 events\n",
      "\n",
      "User 7547671:\n",
      "  Predicted: 200 events\n",
      "  Actual interested: 0 events\n",
      "  Overlap: 0 events\n",
      "\n",
      "User 10329108:\n",
      "  Predicted: 200 events\n",
      "  Actual interested: 1 events\n",
      "  Overlap: 0 events\n",
      "  Recall@200: 0.000\n"
     ]
    }
   ],
   "source": [
    "sample_users = test_users[:5]\n",
    "\n",
    "for user in sample_users:\n",
    "    preds = cb_predictions[user]\n",
    "    actual = actuals[user]\n",
    "    overlap = set(preds) & set(actual)\n",
    "    \n",
    "    print(f\"\\nUser {user}:\")\n",
    "    print(f\"  Predicted: {len(preds)} events\")\n",
    "    print(f\"  Actual interested: {len(actual)} events\")\n",
    "    print(f\"  Overlap: {len(overlap)} events\")\n",
    "    if len(actual) > 0:\n",
    "        print(f\"  Recall@{K}: {len(overlap) / len(actual):.3f}\")"
   ]
  }
 ],
 "metadata": {
  "kernelspec": {
   "display_name": "event-recsys-mvp",
   "language": "python",
   "name": "python3"
  },
  "language_info": {
   "codemirror_mode": {
    "name": "ipython",
    "version": 3
   },
   "file_extension": ".py",
   "mimetype": "text/x-python",
   "name": "python",
   "nbconvert_exporter": "python",
   "pygments_lexer": "ipython3",
   "version": "3.8.20"
  }
 },
 "nbformat": 4,
 "nbformat_minor": 4
}
