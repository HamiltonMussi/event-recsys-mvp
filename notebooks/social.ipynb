{
 "cells": [
  {
   "cell_type": "markdown",
   "metadata": {},
   "source": [
    "# Event Recommendation System - Social Recommendation Evaluation"
   ]
  },
  {
   "cell_type": "code",
   "execution_count": 14,
   "metadata": {},
   "outputs": [],
   "source": [
    "import sys\n",
    "from pathlib import Path\n",
    "import pandas as pd\n",
    "import numpy as np\n",
    "\n",
    "sys.path.append(str(Path.cwd().parent))\n",
    "\n",
    "from models.social import SocialRecommender\n",
    "from utils.metrics import evaluate_recommendations\n",
    "from utils.temporal_split import temporal_split_per_user, print_split_stats"
   ]
  },
  {
   "cell_type": "markdown",
   "metadata": {},
   "source": [
    "## 1. Load and Split Data"
   ]
  },
  {
   "cell_type": "code",
   "execution_count": 15,
   "metadata": {},
   "outputs": [
    {
     "name": "stdout",
     "output_type": "stream",
     "text": [
      "Raw train data: 15398 interactions\n",
      "Events: 3137972\n",
      "Event attendees: 24144\n",
      "User friends: 38202\n"
     ]
    }
   ],
   "source": [
    "raw_dir = Path(\"../data/raw\")\n",
    "\n",
    "train_raw = pd.read_csv(raw_dir / \"train.csv\")\n",
    "events_raw = pd.read_csv(raw_dir / \"events.csv\")\n",
    "event_attendees = pd.read_csv(raw_dir / \"event_attendees.csv\")\n",
    "user_friends = pd.read_csv(raw_dir / \"user_friends.csv\")\n",
    "\n",
    "print(f\"Raw train data: {len(train_raw)} interactions\")\n",
    "print(f\"Events: {len(events_raw)}\")\n",
    "print(f\"Event attendees: {len(event_attendees)}\")\n",
    "print(f\"User friends: {len(user_friends)}\")"
   ]
  },
  {
   "cell_type": "code",
   "execution_count": 16,
   "metadata": {},
   "outputs": [
    {
     "name": "stdout",
     "output_type": "stream",
     "text": [
      "============================================================\n",
      "TEMPORAL SPLIT STATISTICS\n",
      "============================================================\n",
      "\n",
      "TRAIN SET:\n",
      "  Total interactions: 7393\n",
      "  Unique users: 2034\n",
      "  Unique events: 4733\n",
      "  Interested=1: 1337\n",
      "\n",
      "VALIDATION SET:\n",
      "  Total interactions: 8005\n",
      "  Unique users: 2034\n",
      "  Unique events: 5127\n",
      "  Interested=1: 2794\n",
      "\n",
      "OVERLAP:\n",
      "  Users in both: 2034\n",
      "  Events in both: 1014\n",
      "============================================================\n"
     ]
    }
   ],
   "source": [
    "train_df, val_df = temporal_split_per_user(train_raw, train_ratio=0.5, min_interactions=3)\n",
    "\n",
    "print_split_stats(train_df, val_df)"
   ]
  },
  {
   "cell_type": "markdown",
   "metadata": {},
   "source": [
    "## 2. Hyperparameters\n",
    "\n",
    "Social recommendation is based on friends' interactions. The model aggregates:\n",
    "- Events that friends purchased/attended (weighted by `weight_attending`)\n",
    "- Events that friends marked as interested (weighted by `weight_interested`)"
   ]
  },
  {
   "cell_type": "code",
   "execution_count": 17,
   "metadata": {},
   "outputs": [],
   "source": [
    "SOCIAL_PARAMS = {\n",
    "    \"weight_attending\": 2.0,\n",
    "    \"weight_interested\": 1.0\n",
    "}\n",
    "\n",
    "K = 200\n",
    "N_TEST_USERS = 100"
   ]
  },
  {
   "cell_type": "markdown",
   "metadata": {},
   "source": [
    "## 3. Train Social Recommendation Model"
   ]
  },
  {
   "cell_type": "code",
   "execution_count": 18,
   "metadata": {},
   "outputs": [
    {
     "name": "stdout",
     "output_type": "stream",
     "text": [
      "Training Social Recommendation model...\n",
      "Training complete!\n"
     ]
    }
   ],
   "source": [
    "print(\"Training Social Recommendation model...\")\n",
    "social_model = SocialRecommender(**SOCIAL_PARAMS)\n",
    "social_model.fit(user_friends, train_df, event_attendees)\n",
    "print(\"Training complete!\")"
   ]
  },
  {
   "cell_type": "markdown",
   "metadata": {},
   "source": [
    "## 4. Evaluate on Validation Set"
   ]
  },
  {
   "cell_type": "code",
   "execution_count": 19,
   "metadata": {},
   "outputs": [
    {
     "name": "stdout",
     "output_type": "stream",
     "text": [
      "Users with labels in validation: 1501\n",
      "Evaluating on 100 users...\n",
      "\n",
      "==================================================\n",
      "SOCIAL RECOMMENDATION RESULTS @ K=200\n",
      "==================================================\n",
      "Recall@K            : 0.46057\n",
      "Hit_Rate@K          : 0.58000\n",
      "Contamination@K     : 0.00055\n",
      "==================================================\n"
     ]
    }
   ],
   "source": [
    "val_with_labels = val_df[(val_df[\"interested\"] == 1) | (val_df[\"not_interested\"] == 1)]\n",
    "users_with_labels = val_with_labels[\"user\"].unique()\n",
    "\n",
    "print(f\"Users with labels in validation: {len(users_with_labels)}\")\n",
    "\n",
    "if N_TEST_USERS:\n",
    "    test_users = users_with_labels[:N_TEST_USERS]\n",
    "else:\n",
    "    test_users = users_with_labels\n",
    "\n",
    "print(f\"Evaluating on {len(test_users)} users...\")\n",
    "\n",
    "social_predictions = {}\n",
    "actuals = {}\n",
    "not_interested = {}\n",
    "\n",
    "for user in test_users:\n",
    "    social_predictions[user] = social_model.recommend(user, n=K, exclude_seen=True)\n",
    "    actuals[user] = val_df[(val_df[\"user\"] == user) & (val_df[\"interested\"] == 1)][\"event\"].tolist()\n",
    "    not_interested[user] = val_df[(val_df[\"user\"] == user) & (val_df[\"not_interested\"] == 1)][\"event\"].tolist()\n",
    "\n",
    "metrics = evaluate_recommendations(actuals, social_predictions, not_interested, k=K)\n",
    "\n",
    "print(f\"\\n{'='*50}\")\n",
    "print(f\"SOCIAL RECOMMENDATION RESULTS @ K={K}\")\n",
    "print(f\"{'='*50}\")\n",
    "for metric, value in metrics.items():\n",
    "    print(f\"{metric:20s}: {value:.5f}\")\n",
    "print(f\"{'='*50}\")"
   ]
  },
  {
   "cell_type": "markdown",
   "metadata": {},
   "source": [
    "## 5. Analysis: Friend Graph Statistics"
   ]
  },
  {
   "cell_type": "code",
   "execution_count": 20,
   "metadata": {},
   "outputs": [
    {
     "name": "stdout",
     "output_type": "stream",
     "text": [
      "Users in test set: 100\n",
      "Users with friends: 100\n",
      "Coverage: 100.0%\n",
      "\n",
      "Friend count statistics:\n",
      "Mean friends per user: 798.3\n",
      "Median friends per user: 484.0\n",
      "Max friends: 4964.0\n",
      "Min friends: 1.0\n"
     ]
    }
   ],
   "source": [
    "users_with_friends = set(user_friends[\"user\"].unique())\n",
    "test_users_with_friends = [u for u in test_users if u in users_with_friends]\n",
    "\n",
    "print(f\"Users in test set: {len(test_users)}\")\n",
    "print(f\"Users with friends: {len(test_users_with_friends)}\")\n",
    "print(f\"Coverage: {len(test_users_with_friends)/len(test_users)*100:.1f}%\")\n",
    "\n",
    "user_friends_copy = user_friends.copy()\n",
    "user_friends_copy['friend_count'] = user_friends_copy['friends'].str.split().str.len()\n",
    "print(f\"\\nFriend count statistics:\")\n",
    "print(f\"Mean friends per user: {user_friends_copy['friend_count'].mean():.1f}\")\n",
    "print(f\"Median friends per user: {user_friends_copy['friend_count'].median():.1f}\")\n",
    "print(f\"Max friends: {user_friends_copy['friend_count'].max()}\")\n",
    "print(f\"Min friends: {user_friends_copy['friend_count'].min()}\")"
   ]
  },
  {
   "cell_type": "markdown",
   "metadata": {},
   "source": [
    "## 6. Analysis: Recommendation Coverage"
   ]
  },
  {
   "cell_type": "code",
   "execution_count": 21,
   "metadata": {},
   "outputs": [
    {
     "name": "stdout",
     "output_type": "stream",
     "text": [
      "Users without recommendations: 2\n",
      "Users with recommendations: 98\n",
      "\n",
      "Reasons for no recommendations:\n",
      "  - No friends in network: 0\n",
      "  - Friends have no activity: 2\n",
      "\n",
      "Recommendation count statistics:\n",
      "Mean: 37.0\n",
      "Median: 28.0\n",
      "Max: 200\n",
      "Min: 1\n",
      "\n",
      "==================================================\n",
      "RESULTS FOR USERS WITH RECOMMENDATIONS @ K=200\n",
      "==================================================\n",
      "Recall@K            : 0.46997\n",
      "Hit_Rate@K          : 0.59184\n",
      "Contamination@K     : 0.00055\n",
      "==================================================\n"
     ]
    }
   ],
   "source": [
    "users_without_recs = [u for u in test_users if len(social_predictions.get(u, [])) == 0]\n",
    "users_with_recs = [u for u in test_users if len(social_predictions.get(u, [])) > 0]\n",
    "\n",
    "print(f\"Users without recommendations: {len(users_without_recs)}\")\n",
    "print(f\"Users with recommendations: {len(users_with_recs)}\")\n",
    "\n",
    "if users_without_recs:\n",
    "    print(f\"\\nReasons for no recommendations:\")\n",
    "    no_friends = [u for u in users_without_recs if u not in users_with_friends]\n",
    "    print(f\"  - No friends in network: {len(no_friends)}\")\n",
    "    print(f\"  - Friends have no activity: {len(users_without_recs) - len(no_friends)}\")\n",
    "\n",
    "if users_with_recs:\n",
    "    rec_counts = [len(social_predictions[u]) for u in users_with_recs]\n",
    "    print(f\"\\nRecommendation count statistics:\")\n",
    "    print(f\"Mean: {np.mean(rec_counts):.1f}\")\n",
    "    print(f\"Median: {np.median(rec_counts):.1f}\")\n",
    "    print(f\"Max: {max(rec_counts)}\")\n",
    "    print(f\"Min: {min(rec_counts)}\")\n",
    "\n",
    "if users_with_recs:\n",
    "    actuals_filtered = {u: actuals[u] for u in users_with_recs}\n",
    "    predictions_filtered = {u: social_predictions[u] for u in users_with_recs}\n",
    "    not_interested_filtered = {u: not_interested[u] for u in users_with_recs}\n",
    "    \n",
    "    metrics_filtered = evaluate_recommendations(actuals_filtered, predictions_filtered, not_interested_filtered, k=K)\n",
    "    \n",
    "    print(f\"\\n{'='*50}\")\n",
    "    print(f\"RESULTS FOR USERS WITH RECOMMENDATIONS @ K={K}\")\n",
    "    print(f\"{'='*50}\")\n",
    "    for metric, value in metrics_filtered.items():\n",
    "        print(f\"{metric:20s}: {value:.5f}\")\n",
    "    print(f\"{'='*50}\")"
   ]
  }
 ],
 "metadata": {
  "kernelspec": {
   "display_name": "Python 3",
   "language": "python",
   "name": "python3"
  },
  "language_info": {
   "codemirror_mode": {
    "name": "ipython",
    "version": 3
   },
   "file_extension": ".py",
   "mimetype": "text/x-python",
   "name": "python",
   "nbconvert_exporter": "python",
   "pygments_lexer": "ipython3",
   "version": "3.8.0"
  }
 },
 "nbformat": 4,
 "nbformat_minor": 4
}
