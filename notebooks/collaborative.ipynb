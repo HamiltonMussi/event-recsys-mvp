{
 "cells": [
  {
   "cell_type": "markdown",
   "metadata": {},
   "source": [
    "# Event Recommendation System - Collaborative Filtering Evaluation"
   ]
  },
  {
   "cell_type": "code",
   "execution_count": 1,
   "metadata": {},
   "outputs": [
    {
     "name": "stderr",
     "output_type": "stream",
     "text": [
      "/opt/miniconda3/envs/event-recsys-mvp/lib/python3.8/site-packages/tqdm/auto.py:21: TqdmWarning: IProgress not found. Please update jupyter and ipywidgets. See https://ipywidgets.readthedocs.io/en/stable/user_install.html\n",
      "  from .autonotebook import tqdm as notebook_tqdm\n"
     ]
    }
   ],
   "source": [
    "import sys\n",
    "from pathlib import Path\n",
    "import pandas as pd\n",
    "import numpy as np\n",
    "\n",
    "sys.path.append(str(Path.cwd().parent))\n",
    "\n",
    "from models.collaborative import CollaborativeFilteringRecommender\n",
    "from utils.metrics import evaluate_recommendations\n",
    "from utils.temporal_split import temporal_split_per_user, print_split_stats\n",
    "from utils.preprocessing import InteractionMatrix"
   ]
  },
  {
   "cell_type": "markdown",
   "metadata": {},
   "source": [
    "## 1. Load and Split Data"
   ]
  },
  {
   "cell_type": "code",
   "execution_count": null,
   "metadata": {},
   "outputs": [],
   "source": [
    "raw_dir = Path(\"../data/raw\")\n",
    "\n",
    "train_raw = pd.read_csv(raw_dir / \"train.csv\")\n",
    "events_raw = pd.read_csv(raw_dir / \"events.csv\")\n",
    "event_attendees = pd.read_csv(raw_dir / \"event_attendees.csv\")\n",
    "\n",
    "print(f\"Raw train data: {len(train_raw)} interactions\")\n",
    "print(f\"Events: {len(events_raw)}\")\n",
    "print(f\"Event attendees: {len(event_attendees)}\")"
   ]
  },
  {
   "cell_type": "code",
   "execution_count": null,
   "metadata": {},
   "outputs": [
    {
     "name": "stdout",
     "output_type": "stream",
     "text": [
      "============================================================\n",
      "TEMPORAL SPLIT STATISTICS\n",
      "============================================================\n",
      "\n",
      "TRAIN SET:\n",
      "  Total interactions: 7393\n",
      "  Unique users: 2034\n",
      "  Unique events: 4733\n",
      "  Interested=1: 1337\n",
      "\n",
      "VALIDATION SET:\n",
      "  Total interactions: 8005\n",
      "  Unique users: 2034\n",
      "  Unique events: 5127\n",
      "  Interested=1: 2794\n",
      "\n",
      "OVERLAP:\n",
      "  Users in both: 2034\n",
      "  Events in both: 1014\n",
      "============================================================\n"
     ]
    }
   ],
   "source": [
    "train_df, val_df = temporal_split_per_user(train_raw, train_ratio=0.5, min_interactions=3)\n",
    "\n",
    "print_split_stats(train_df, val_df)"
   ]
  },
  {
   "cell_type": "markdown",
   "metadata": {},
   "source": [
    "## 2. Preprocess Events Data\n",
    "\n",
    "This cell processes events (K-means clustering, feature extraction) only if not already cached. Subsequent runs will load from cache."
   ]
  },
  {
   "cell_type": "code",
   "execution_count": null,
   "metadata": {},
   "outputs": [
    {
     "name": "stdout",
     "output_type": "stream",
     "text": [
      "Loading cached processed events...\n",
      "Processed events shape: (3137972, 113)\n",
      "Event categories: 30\n"
     ]
    }
   ],
   "source": [
    "from utils.preprocessing import EventFeatureExtractor\n",
    "\n",
    "processed_events_path = Path(\"../data/processed/events_processed.csv\")\n",
    "\n",
    "if processed_events_path.exists():\n",
    "    print(\"Loading cached processed events...\")\n",
    "    events = pd.read_csv(processed_events_path)\n",
    "else:\n",
    "    print(\"Processing events (this will take a few minutes)...\")\n",
    "    extractor = EventFeatureExtractor(n_clusters=30)\n",
    "    events = extractor.fit_transform(events_raw)\n",
    "    events.to_csv(processed_events_path, index=False)\n",
    "    print(\"Events processed and cached!\")\n",
    "\n",
    "print(f\"Processed events shape: {events.shape}\")\n",
    "print(f\"Event categories: {events['event_category'].nunique()}\")"
   ]
  },
  {
   "cell_type": "markdown",
   "metadata": {},
   "source": [
    "## 3. Build Interaction Matrices\n",
    "\n",
    "Build R (rating) and W (weight) matrices for collaborative filtering."
   ]
  },
  {
   "cell_type": "code",
   "execution_count": null,
   "metadata": {},
   "outputs": [
    {
     "name": "stdout",
     "output_type": "stream",
     "text": [
      "Building interaction matrices...\n",
      "R matrix shape: (2034, 4733)\n",
      "W matrix shape: (2034, 4733)\n",
      "Users: 2034\n",
      "Events: 4733\n"
     ]
    }
   ],
   "source": [
    "MATRIX_PARAMS = {\n",
    "    \"weight_purchase\": 3.0,\n",
    "    \"weight_interested\": 1.0,\n",
    "    \"weight_not_interested\": 0.5,\n",
    "    \"weight_unseen\": 0.1\n",
    "}\n",
    "\n",
    "print(\"Building interaction matrices...\")\n",
    "matrix_builder = InteractionMatrix(**MATRIX_PARAMS)\n",
    "R, W, user_to_idx, event_to_idx = matrix_builder.build_matrices(train_df, event_attendees)\n",
    "\n",
    "print(f\"R matrix shape: {R.shape}\")\n",
    "print(f\"W matrix shape: {W.shape}\")\n",
    "print(f\"Users: {len(user_to_idx)}\")\n",
    "print(f\"Events: {len(event_to_idx)}\")"
   ]
  },
  {
   "cell_type": "markdown",
   "metadata": {},
   "source": [
    "## 4. Hyperparameters\n",
    "\n",
    "Model uses geographic filtering to reduce search space from 3M events to top-K nearest events based on user's median location."
   ]
  },
  {
   "cell_type": "code",
   "execution_count": null,
   "metadata": {},
   "outputs": [],
   "source": [
    "COLLABORATIVE_PARAMS = {\n",
    "    \"n_factors\": 10,\n",
    "    \"regularization\": 0.01,\n",
    "    \"iterations\": 15,\n",
    "    \"random_state\": 42,\n",
    "    \"geo_top_k\": 1000\n",
    "}\n",
    "\n",
    "K = 200\n",
    "N_TEST_USERS = 100"
   ]
  },
  {
   "cell_type": "markdown",
   "metadata": {},
   "source": [
    "## 5. Train Collaborative Filtering Model"
   ]
  },
  {
   "cell_type": "code",
   "execution_count": null,
   "metadata": {},
   "outputs": [
    {
     "name": "stdout",
     "output_type": "stream",
     "text": [
      "Training Collaborative Filtering model...\n"
     ]
    },
    {
     "name": "stderr",
     "output_type": "stream",
     "text": [
      "/opt/miniconda3/envs/event-recsys-mvp/lib/python3.8/site-packages/implicit/cpu/als.py:95: RuntimeWarning: OpenBLAS is configured to use 10 threads. It is highly recommended to disable its internal threadpool by setting the environment variable 'OPENBLAS_NUM_THREADS=1' or by calling 'threadpoolctl.threadpool_limits(1, \"blas\")'. Having OpenBLAS use a threadpool can lead to severe performance issues here.\n",
      "  check_blas_config()\n",
      "100%|██████████| 15/15 [00:00<00:00, 609.58it/s]"
     ]
    },
    {
     "name": "stdout",
     "output_type": "stream",
     "text": [
      "Training complete!\n"
     ]
    },
    {
     "name": "stderr",
     "output_type": "stream",
     "text": [
      "\n"
     ]
    }
   ],
   "source": [
    "print(\"Training Collaborative Filtering model...\")\n",
    "cf_model = CollaborativeFilteringRecommender(**COLLABORATIVE_PARAMS)\n",
    "cf_model.fit(R, W, user_to_idx, event_to_idx, train_df, events)\n",
    "print(\"Training complete!\")"
   ]
  },
  {
   "cell_type": "markdown",
   "metadata": {},
   "source": [
    "## 6. Evaluate on Validation Set"
   ]
  },
  {
   "cell_type": "code",
   "execution_count": null,
   "metadata": {},
   "outputs": [
    {
     "name": "stdout",
     "output_type": "stream",
     "text": [
      "Users with labels in validation: 1501\n",
      "Evaluating on 100 users...\n",
      "\n",
      "==================================================\n",
      "COLLABORATIVE FILTERING RESULTS @ K=200\n",
      "==================================================\n",
      "Recall@K            : 0.22255\n",
      "Hit_Rate@K          : 0.29000\n",
      "Contamination@K     : 0.00000\n",
      "==================================================\n"
     ]
    }
   ],
   "source": [
    "val_with_labels = val_df[(val_df[\"interested\"] == 1) | (val_df[\"not_interested\"] == 1)]\n",
    "users_with_labels = val_with_labels[\"user\"].unique()\n",
    "\n",
    "print(f\"Users with labels in validation: {len(users_with_labels)}\")\n",
    "\n",
    "if N_TEST_USERS:\n",
    "    test_users = users_with_labels[:N_TEST_USERS]\n",
    "else:\n",
    "    test_users = users_with_labels\n",
    "\n",
    "print(f\"Evaluating on {len(test_users)} users...\")\n",
    "\n",
    "cf_predictions = {}\n",
    "actuals = {}\n",
    "not_interested = {}\n",
    "\n",
    "for user in test_users:\n",
    "    cf_predictions[user] = cf_model.recommend(user, n=K, exclude_seen=True)\n",
    "    actuals[user] = val_df[(val_df[\"user\"] == user) & (val_df[\"interested\"] == 1)][\"event\"].tolist()\n",
    "    not_interested[user] = val_df[(val_df[\"user\"] == user) & (val_df[\"not_interested\"] == 1)][\"event\"].tolist()\n",
    "\n",
    "metrics = evaluate_recommendations(actuals, cf_predictions, not_interested, k=K)\n",
    "\n",
    "print(f\"\\n{'='*50}\")\n",
    "print(f\"COLLABORATIVE FILTERING RESULTS @ K={K}\")\n",
    "print(f\"{'='*50}\")\n",
    "for metric, value in metrics.items():\n",
    "    print(f\"{metric:20s}: {value:.5f}\")\n",
    "print(f\"{'='*50}\")"
   ]
  },
  {
   "cell_type": "markdown",
   "metadata": {},
   "source": [
    "## 7. Hyperparameter Tuning: n_factors\n",
    "\n",
    "Test different values of n_factors to find the optimal embedding dimensionality."
   ]
  },
  {
   "cell_type": "code",
   "execution_count": null,
   "metadata": {},
   "outputs": [
    {
     "name": "stdout",
     "output_type": "stream",
     "text": [
      "\n",
      "============================================================\n",
      "Testing n_factors = 1\n",
      "============================================================\n",
      "Training model with n_factors=1...\n"
     ]
    },
    {
     "name": "stderr",
     "output_type": "stream",
     "text": [
      "100%|██████████| 15/15 [00:00<00:00, 3565.37it/s]\n"
     ]
    },
    {
     "name": "stdout",
     "output_type": "stream",
     "text": [
      "Evaluating on 100 users...\n",
      "Recall@200: 0.22255\n",
      "Hit_Rate@200: 0.29000\n",
      "\n",
      "============================================================\n",
      "Testing n_factors = 5\n",
      "============================================================\n",
      "Training model with n_factors=5...\n"
     ]
    },
    {
     "name": "stderr",
     "output_type": "stream",
     "text": [
      "100%|██████████| 15/15 [00:00<00:00, 1293.90it/s]\n"
     ]
    },
    {
     "name": "stdout",
     "output_type": "stream",
     "text": [
      "Evaluating on 100 users...\n",
      "Recall@200: 0.22255\n",
      "Hit_Rate@200: 0.29000\n",
      "\n",
      "============================================================\n",
      "Testing n_factors = 10\n",
      "============================================================\n",
      "Training model with n_factors=10...\n"
     ]
    },
    {
     "name": "stderr",
     "output_type": "stream",
     "text": [
      "100%|██████████| 15/15 [00:00<00:00, 675.40it/s]\n"
     ]
    },
    {
     "name": "stdout",
     "output_type": "stream",
     "text": [
      "Evaluating on 100 users...\n",
      "Recall@200: 0.22255\n",
      "Hit_Rate@200: 0.29000\n",
      "\n",
      "============================================================\n",
      "Testing n_factors = 20\n",
      "============================================================\n",
      "Training model with n_factors=20...\n"
     ]
    },
    {
     "name": "stderr",
     "output_type": "stream",
     "text": [
      "100%|██████████| 15/15 [00:00<00:00, 396.92it/s]\n"
     ]
    },
    {
     "name": "stdout",
     "output_type": "stream",
     "text": [
      "Evaluating on 100 users...\n",
      "Recall@200: 0.22255\n",
      "Hit_Rate@200: 0.29000\n",
      "\n",
      "============================================================\n",
      "Testing n_factors = 50\n",
      "============================================================\n",
      "Training model with n_factors=50...\n"
     ]
    },
    {
     "name": "stderr",
     "output_type": "stream",
     "text": [
      "100%|██████████| 15/15 [00:00<00:00, 95.59it/s]\n"
     ]
    },
    {
     "name": "stdout",
     "output_type": "stream",
     "text": [
      "Evaluating on 100 users...\n",
      "Recall@200: 0.22255\n",
      "Hit_Rate@200: 0.29000\n",
      "\n",
      "============================================================\n",
      "Testing n_factors = 100\n",
      "============================================================\n",
      "Training model with n_factors=100...\n"
     ]
    },
    {
     "name": "stderr",
     "output_type": "stream",
     "text": [
      "100%|██████████| 15/15 [00:00<00:00, 57.85it/s]\n"
     ]
    },
    {
     "name": "stdout",
     "output_type": "stream",
     "text": [
      "Evaluating on 100 users...\n",
      "Recall@200: 0.22255\n",
      "Hit_Rate@200: 0.29000\n",
      "\n",
      "============================================================\n",
      "SUMMARY OF RESULTS - n_factors\n",
      "============================================================\n",
      "n_factors       Recall@K        Hit_Rate@K     \n",
      "---------------------------------------------\n",
      "1               0.22255         0.29000        \n",
      "5               0.22255         0.29000        \n",
      "10              0.22255         0.29000        \n",
      "20              0.22255         0.29000        \n",
      "50              0.22255         0.29000        \n",
      "100             0.22255         0.29000        \n"
     ]
    }
   ],
   "source": [
    "n_factors_to_test = [1, 5, 10, 20, 50, 100]\n",
    "\n",
    "results_factors = []\n",
    "\n",
    "for n_factors in n_factors_to_test:\n",
    "    print(f\"\\n{'='*60}\")\n",
    "    print(f\"Testing n_factors = {n_factors}\")\n",
    "    print(f\"{'='*60}\")\n",
    "    \n",
    "    params = {\n",
    "        \"n_factors\": n_factors,\n",
    "        \"regularization\": 0.01,\n",
    "        \"iterations\": 15,\n",
    "        \"random_state\": 42,\n",
    "        \"geo_top_k\": 1000\n",
    "    }\n",
    "    \n",
    "    print(f\"Training model with n_factors={n_factors}...\")\n",
    "    model = CollaborativeFilteringRecommender(**params)\n",
    "    model.fit(R, W, user_to_idx, event_to_idx, train_df, events)\n",
    "    \n",
    "    print(f\"Evaluating on {len(test_users)} users...\")\n",
    "    predictions = {}\n",
    "    for user in test_users:\n",
    "        predictions[user] = model.recommend(user, n=K, exclude_seen=True)\n",
    "    \n",
    "    metrics = evaluate_recommendations(actuals, predictions, not_interested, k=K)\n",
    "    \n",
    "    results_factors.append({\n",
    "        \"n_factors\": n_factors,\n",
    "        \"recall\": metrics[\"Recall@K\"],\n",
    "        \"hit_rate\": metrics[\"Hit_Rate@K\"],\n",
    "        \"contamination\": metrics[\"Contamination@K\"]\n",
    "    })\n",
    "    \n",
    "    print(f\"Recall@{K}: {metrics['Recall@K']:.5f}\")\n",
    "    print(f\"Hit_Rate@{K}: {metrics['Hit_Rate@K']:.5f}\")\n",
    "\n",
    "print(f\"\\n{'='*60}\")\n",
    "print(\"SUMMARY OF RESULTS - n_factors\")\n",
    "print(f\"{'='*60}\")\n",
    "print(f\"{'n_factors':<15} {'Recall@K':<15} {'Hit_Rate@K':<15}\")\n",
    "print(f\"{'-'*45}\")\n",
    "for r in results_factors:\n",
    "    print(f\"{r['n_factors']:<15} {r['recall']:<15.5f} {r['hit_rate']:<15.5f}\")"
   ]
  },
  {
   "cell_type": "markdown",
   "metadata": {},
   "source": [
    "## 8. Hyperparameter Tuning: geo_top_k\n",
    "\n",
    "Test different values of geo_top_k to understand the impact of geographic filtering on performance."
   ]
  },
  {
   "cell_type": "code",
   "execution_count": null,
   "metadata": {},
   "outputs": [
    {
     "name": "stdout",
     "output_type": "stream",
     "text": [
      "\n",
      "============================================================\n",
      "Testing geo_top_k = 500\n",
      "============================================================\n",
      "Training model with geo_top_k=500...\n"
     ]
    },
    {
     "name": "stderr",
     "output_type": "stream",
     "text": [
      "100%|██████████| 15/15 [00:00<00:00, 586.86it/s]\n"
     ]
    },
    {
     "name": "stdout",
     "output_type": "stream",
     "text": [
      "DEBUG: interaction_matrix shape: (2034, 4733)\n",
      "DEBUG: item_factors shape: (4733, 10)\n",
      "DEBUG: user_factors shape: (2034, 10)\n",
      "DEBUG: len(event_to_idx): 4733\n",
      "DEBUG: len(user_to_idx): 2034\n",
      "Evaluating on 100 users...\n",
      "Recall@200: 0.08445\n",
      "Hit_Rate@200: 0.13000\n",
      "\n",
      "============================================================\n",
      "Testing geo_top_k = 1000\n",
      "============================================================\n",
      "Training model with geo_top_k=1000...\n"
     ]
    },
    {
     "name": "stderr",
     "output_type": "stream",
     "text": [
      "100%|██████████| 15/15 [00:00<00:00, 578.19it/s]\n"
     ]
    },
    {
     "name": "stdout",
     "output_type": "stream",
     "text": [
      "DEBUG: interaction_matrix shape: (2034, 4733)\n",
      "DEBUG: item_factors shape: (4733, 10)\n",
      "DEBUG: user_factors shape: (2034, 10)\n",
      "DEBUG: len(event_to_idx): 4733\n",
      "DEBUG: len(user_to_idx): 2034\n",
      "Evaluating on 100 users...\n",
      "Recall@200: 0.22255\n",
      "Hit_Rate@200: 0.29000\n",
      "\n",
      "============================================================\n",
      "Testing geo_top_k = 2000\n",
      "============================================================\n",
      "Training model with geo_top_k=2000...\n"
     ]
    },
    {
     "name": "stderr",
     "output_type": "stream",
     "text": [
      "100%|██████████| 15/15 [00:00<00:00, 649.49it/s]\n"
     ]
    },
    {
     "name": "stdout",
     "output_type": "stream",
     "text": [
      "DEBUG: interaction_matrix shape: (2034, 4733)\n",
      "DEBUG: item_factors shape: (4733, 10)\n",
      "DEBUG: user_factors shape: (2034, 10)\n",
      "DEBUG: len(event_to_idx): 4733\n",
      "DEBUG: len(user_to_idx): 2034\n",
      "Evaluating on 100 users...\n",
      "Recall@200: 0.26231\n",
      "Hit_Rate@200: 0.33000\n",
      "\n",
      "============================================================\n",
      "Testing geo_top_k = 3000\n",
      "============================================================\n",
      "Training model with geo_top_k=3000...\n"
     ]
    },
    {
     "name": "stderr",
     "output_type": "stream",
     "text": [
      "100%|██████████| 15/15 [00:00<00:00, 599.95it/s]\n"
     ]
    },
    {
     "name": "stdout",
     "output_type": "stream",
     "text": [
      "DEBUG: interaction_matrix shape: (2034, 4733)\n",
      "DEBUG: item_factors shape: (4733, 10)\n",
      "DEBUG: user_factors shape: (2034, 10)\n",
      "DEBUG: len(event_to_idx): 4733\n",
      "DEBUG: len(user_to_idx): 2034\n",
      "Evaluating on 100 users...\n",
      "Recall@200: 0.27231\n",
      "Hit_Rate@200: 0.34000\n",
      "\n",
      "============================================================\n",
      "Testing geo_top_k = 5000\n",
      "============================================================\n",
      "Training model with geo_top_k=5000...\n"
     ]
    },
    {
     "name": "stderr",
     "output_type": "stream",
     "text": [
      "100%|██████████| 15/15 [00:00<00:00, 596.50it/s]\n"
     ]
    },
    {
     "name": "stdout",
     "output_type": "stream",
     "text": [
      "DEBUG: interaction_matrix shape: (2034, 4733)\n",
      "DEBUG: item_factors shape: (4733, 10)\n",
      "DEBUG: user_factors shape: (2034, 10)\n",
      "DEBUG: len(event_to_idx): 4733\n",
      "DEBUG: len(user_to_idx): 2034\n",
      "Evaluating on 100 users...\n"
     ]
    },
    {
     "ename": "KeyboardInterrupt",
     "evalue": "",
     "output_type": "error",
     "traceback": [
      "\u001b[0;31m---------------------------------------------------------------------------\u001b[0m",
      "\u001b[0;31mKeyboardInterrupt\u001b[0m                         Traceback (most recent call last)",
      "Cell \u001b[0;32mIn[16], line 25\u001b[0m\n\u001b[1;32m     23\u001b[0m predictions \u001b[38;5;241m=\u001b[39m {}\n\u001b[1;32m     24\u001b[0m \u001b[38;5;28;01mfor\u001b[39;00m user \u001b[38;5;129;01min\u001b[39;00m test_users:\n\u001b[0;32m---> 25\u001b[0m     predictions[user] \u001b[38;5;241m=\u001b[39m \u001b[43mmodel\u001b[49m\u001b[38;5;241;43m.\u001b[39;49m\u001b[43mrecommend\u001b[49m\u001b[43m(\u001b[49m\u001b[43muser\u001b[49m\u001b[43m,\u001b[49m\u001b[43m \u001b[49m\u001b[43mn\u001b[49m\u001b[38;5;241;43m=\u001b[39;49m\u001b[43mK\u001b[49m\u001b[43m,\u001b[49m\u001b[43m \u001b[49m\u001b[43mexclude_seen\u001b[49m\u001b[38;5;241;43m=\u001b[39;49m\u001b[38;5;28;43;01mTrue\u001b[39;49;00m\u001b[43m)\u001b[49m\n\u001b[1;32m     27\u001b[0m metrics \u001b[38;5;241m=\u001b[39m evaluate_recommendations(actuals, predictions, not_interested, k\u001b[38;5;241m=\u001b[39mK)\n\u001b[1;32m     29\u001b[0m results_geo\u001b[38;5;241m.\u001b[39mappend({\n\u001b[1;32m     30\u001b[0m     \u001b[38;5;124m\"\u001b[39m\u001b[38;5;124mgeo_top_k\u001b[39m\u001b[38;5;124m\"\u001b[39m: geo_k,\n\u001b[1;32m     31\u001b[0m     \u001b[38;5;124m\"\u001b[39m\u001b[38;5;124mrecall\u001b[39m\u001b[38;5;124m\"\u001b[39m: metrics[\u001b[38;5;124m\"\u001b[39m\u001b[38;5;124mRecall@K\u001b[39m\u001b[38;5;124m\"\u001b[39m],\n\u001b[1;32m     32\u001b[0m     \u001b[38;5;124m\"\u001b[39m\u001b[38;5;124mhit_rate\u001b[39m\u001b[38;5;124m\"\u001b[39m: metrics[\u001b[38;5;124m\"\u001b[39m\u001b[38;5;124mHit_Rate@K\u001b[39m\u001b[38;5;124m\"\u001b[39m],\n\u001b[1;32m     33\u001b[0m     \u001b[38;5;124m\"\u001b[39m\u001b[38;5;124mcontamination\u001b[39m\u001b[38;5;124m\"\u001b[39m: metrics[\u001b[38;5;124m\"\u001b[39m\u001b[38;5;124mContamination@K\u001b[39m\u001b[38;5;124m\"\u001b[39m]\n\u001b[1;32m     34\u001b[0m })\n",
      "File \u001b[0;32m~/Desktop/event-recsys-mvp/models/collaborative.py:68\u001b[0m, in \u001b[0;36mrecommend\u001b[0;34m(self, user_id, n, exclude_seen)\u001b[0m\n\u001b[1;32m     60\u001b[0m     \u001b[38;5;28;01mreturn\u001b[39;00m []\n\u001b[1;32m     62\u001b[0m candidate_events \u001b[38;5;241m=\u001b[39m \u001b[38;5;28mself\u001b[39m\u001b[38;5;241m.\u001b[39mgeo_filter\u001b[38;5;241m.\u001b[39mget_nearby_events(\n\u001b[1;32m     63\u001b[0m     user_id,\n\u001b[1;32m     64\u001b[0m     top_k\u001b[38;5;241m=\u001b[39m\u001b[38;5;28mself\u001b[39m\u001b[38;5;241m.\u001b[39mgeo_top_k,\n\u001b[1;32m     65\u001b[0m     exclude_seen\u001b[38;5;241m=\u001b[39mexclude_seen\n\u001b[1;32m     66\u001b[0m )\n\u001b[0;32m---> 68\u001b[0m valid_candidates \u001b[38;5;241m=\u001b[39m []\n\u001b[1;32m     69\u001b[0m valid_indices \u001b[38;5;241m=\u001b[39m []\n\u001b[1;32m     70\u001b[0m \u001b[38;5;28;01mfor\u001b[39;00m event \u001b[38;5;129;01min\u001b[39;00m candidate_events:\n",
      "\u001b[0;31mKeyboardInterrupt\u001b[0m: "
     ]
    }
   ],
   "source": [
    "geo_top_k_to_test = [500, 1000, 2000, 3000, 5000]\n",
    "\n",
    "results_geo = []\n",
    "\n",
    "for geo_k in geo_top_k_to_test:\n",
    "    print(f\"\\n{'='*60}\")\n",
    "    print(f\"Testing geo_top_k = {geo_k}\")\n",
    "    print(f\"{'='*60}\")\n",
    "    \n",
    "    params = {\n",
    "        \"n_factors\": 10,\n",
    "        \"regularization\": 0.01,\n",
    "        \"iterations\": 15,\n",
    "        \"random_state\": 42,\n",
    "        \"geo_top_k\": geo_k\n",
    "    }\n",
    "    \n",
    "    print(f\"Training model with geo_top_k={geo_k}...\")\n",
    "    model = CollaborativeFilteringRecommender(**params)\n",
    "    model.fit(R, W, user_to_idx, event_to_idx, train_df, events)\n",
    "    \n",
    "    print(f\"Evaluating on {len(test_users)} users...\")\n",
    "    predictions = {}\n",
    "    for user in test_users:\n",
    "        predictions[user] = model.recommend(user, n=K, exclude_seen=True)\n",
    "    \n",
    "    metrics = evaluate_recommendations(actuals, predictions, not_interested, k=K)\n",
    "    \n",
    "    results_geo.append({\n",
    "        \"geo_top_k\": geo_k,\n",
    "        \"recall\": metrics[\"Recall@K\"],\n",
    "        \"hit_rate\": metrics[\"Hit_Rate@K\"],\n",
    "        \"contamination\": metrics[\"Contamination@K\"]\n",
    "    })\n",
    "    \n",
    "    print(f\"Recall@{K}: {metrics['Recall@K']:.5f}\")\n",
    "    print(f\"Hit_Rate@{K}: {metrics['Hit_Rate@K']:.5f}\")\n",
    "\n",
    "print(f\"\\n{'='*60}\")\n",
    "print(\"SUMMARY OF RESULTS - geo_top_k\")\n",
    "print(f\"{'='*60}\")\n",
    "print(f\"{'geo_top_k':<15} {'Recall@K':<15} {'Hit_Rate@K':<15}\")\n",
    "print(f\"{'-'*45}\")\n",
    "for r in results_geo:\n",
    "    print(f\"{r['geo_top_k']:<15} {r['recall']:<15.5f} {r['hit_rate']:<15.5f}\")"
   ]
  }
 ],
 "metadata": {
  "kernelspec": {
   "display_name": "Python 3",
   "language": "python",
   "name": "python3"
  },
  "language_info": {
   "name": "python",
   "version": "3.11.0"
  }
 },
 "nbformat": 4,
 "nbformat_minor": 2
}
