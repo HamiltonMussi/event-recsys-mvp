{
 "cells": [
  {
   "cell_type": "markdown",
   "metadata": {},
   "source": [
    "# Event Recommendation System - Temporal Evaluation"
   ]
  },
  {
   "cell_type": "code",
   "execution_count": 2,
   "metadata": {},
   "outputs": [],
   "source": [
    "import sys\n",
    "from pathlib import Path\n",
    "import pandas as pd\n",
    "import numpy as np\n",
    "\n",
    "sys.path.append(str(Path.cwd().parent))\n",
    "\n",
    "from models.content_based import ContentBasedRecommender\n",
    "from utils.metrics import evaluate_recommendations\n",
    "from utils.temporal_split import temporal_split_per_user, print_split_stats"
   ]
  },
  {
   "cell_type": "markdown",
   "metadata": {},
   "source": [
    "## 1. Load and Split Data"
   ]
  },
  {
   "cell_type": "code",
   "execution_count": 3,
   "metadata": {},
   "outputs": [
    {
     "name": "stdout",
     "output_type": "stream",
     "text": [
      "Raw train data: 15398 interactions\n",
      "Events: 3137972\n",
      "Event attendees: 24144\n"
     ]
    }
   ],
   "source": [
    "raw_dir = Path(\"../data/raw\")\n",
    "\n",
    "train_raw = pd.read_csv(raw_dir / \"train.csv\")\n",
    "events_raw = pd.read_csv(raw_dir / \"events.csv\")\n",
    "event_attendees = pd.read_csv(raw_dir / \"event_attendees.csv\")\n",
    "user_friends = pd.read_csv(raw_dir / \"user_friends.csv\")\n",
    "\n",
    "print(f\"Raw train data: {len(train_raw)} interactions\")\n",
    "print(f\"Events: {len(events_raw)}\")\n",
    "print(f\"Event attendees: {len(event_attendees)}\")"
   ]
  },
  {
   "cell_type": "code",
   "execution_count": 4,
   "metadata": {},
   "outputs": [
    {
     "name": "stdout",
     "output_type": "stream",
     "text": [
      "============================================================\n",
      "TEMPORAL SPLIT STATISTICS\n",
      "============================================================\n",
      "\n",
      "TRAIN SET:\n",
      "  Total interactions: 7393\n",
      "  Unique users: 2034\n",
      "  Unique events: 4733\n",
      "  Interested=1: 1337\n",
      "\n",
      "VALIDATION SET:\n",
      "  Total interactions: 8005\n",
      "  Unique users: 2034\n",
      "  Unique events: 5127\n",
      "  Interested=1: 2794\n",
      "\n",
      "OVERLAP:\n",
      "  Users in both: 2034\n",
      "  Events in both: 1014\n",
      "============================================================\n"
     ]
    }
   ],
   "source": [
    "train_df, val_df = temporal_split_per_user(train_raw, train_ratio=0.5, min_interactions=3)\n",
    "\n",
    "print_split_stats(train_df, val_df)"
   ]
  },
  {
   "cell_type": "markdown",
   "metadata": {},
   "source": [
    "## 2. Preprocess Events Data\n",
    "\n",
    "This cell processes events (K-means clustering, feature extraction) only if not already cached. Subsequent runs will load from cache."
   ]
  },
  {
   "cell_type": "code",
   "execution_count": 5,
   "metadata": {},
   "outputs": [
    {
     "name": "stdout",
     "output_type": "stream",
     "text": [
      "Loading cached processed events...\n",
      "Processed events shape: (3137972, 113)\n",
      "Event categories: 30\n"
     ]
    }
   ],
   "source": [
    "from utils.preprocessing import EventFeatureExtractor\n",
    "\n",
    "processed_events_path = Path(\"../data/processed/events_processed.csv\")\n",
    "\n",
    "if processed_events_path.exists():\n",
    "    print(\"Loading cached processed events...\")\n",
    "    events = pd.read_csv(processed_events_path)\n",
    "else:\n",
    "    print(\"Processing events (this will take a few minutes)...\")\n",
    "    extractor = EventFeatureExtractor(n_clusters=30)\n",
    "    events = extractor.fit_transform(events_raw)\n",
    "    events.to_csv(processed_events_path, index=False)\n",
    "    print(\"Events processed and cached!\")\n",
    "\n",
    "print(f\"Processed events shape: {events.shape}\")\n",
    "print(f\"Event categories: {events['event_category'].nunique()}\")"
   ]
  },
  {
   "cell_type": "markdown",
   "metadata": {},
   "source": [
    "## 3. Hyperparameters\n",
    "\n",
    "Model uses geographic filtering to reduce search space from 3M events to top-K nearest events based on user's median location."
   ]
  },
  {
   "cell_type": "code",
   "execution_count": 6,
   "metadata": {},
   "outputs": [],
   "source": [
    "CONTENT_BASED_PARAMS = {\n",
    "    \"weight_purchase\": 3.0,\n",
    "    \"weight_interested\": 1.0,\n",
    "    \"temporal_decay\": 0.01,\n",
    "    \"geo_top_k\": 3000\n",
    "}\n",
    "\n",
    "K = 200\n",
    "N_TEST_USERS = 100"
   ]
  },
  {
   "cell_type": "markdown",
   "metadata": {},
   "source": [
    "## 4. Train Content-Based Model"
   ]
  },
  {
   "cell_type": "code",
   "execution_count": 7,
   "metadata": {},
   "outputs": [
    {
     "name": "stdout",
     "output_type": "stream",
     "text": [
      "Training Content-Based model...\n",
      "Training complete!\n"
     ]
    }
   ],
   "source": [
    "print(\"Training Content-Based model...\")\n",
    "cb_model = ContentBasedRecommender(**CONTENT_BASED_PARAMS)\n",
    "cb_model.fit(events, train_df, event_attendees)\n",
    "print(\"Training complete!\")"
   ]
  },
  {
   "cell_type": "markdown",
   "metadata": {},
   "source": [
    "## 5. Evaluate on Validation Set"
   ]
  },
  {
   "cell_type": "code",
   "execution_count": 8,
   "metadata": {},
   "outputs": [
    {
     "name": "stdout",
     "output_type": "stream",
     "text": [
      "Users with labels in validation: 1501\n",
      "Evaluating on 100 users...\n",
      "\n",
      "==================================================\n",
      "CONTENT-BASED RESULTS @ K=200\n",
      "==================================================\n",
      "Recall@K            : 0.06343\n",
      "Hit_Rate@K          : 0.11000\n",
      "Contamination@K     : 0.00000\n",
      "==================================================\n"
     ]
    }
   ],
   "source": [
    "val_with_labels = val_df[(val_df[\"interested\"] == 1) | (val_df[\"not_interested\"] == 1)]\n",
    "users_with_labels = val_with_labels[\"user\"].unique()\n",
    "\n",
    "print(f\"Users with labels in validation: {len(users_with_labels)}\")\n",
    "\n",
    "if N_TEST_USERS:\n",
    "    test_users = users_with_labels[:N_TEST_USERS]\n",
    "else:\n",
    "    test_users = users_with_labels\n",
    "\n",
    "print(f\"Evaluating on {len(test_users)} users...\")\n",
    "\n",
    "cb_predictions = {}\n",
    "actuals = {}\n",
    "not_interested = {}\n",
    "\n",
    "for user in test_users:\n",
    "    cb_predictions[user] = cb_model.recommend(user, n=K, exclude_seen=True)\n",
    "    actuals[user] = val_df[(val_df[\"user\"] == user) & (val_df[\"interested\"] == 1)][\"event\"].tolist()\n",
    "    not_interested[user] = val_df[(val_df[\"user\"] == user) & (val_df[\"not_interested\"] == 1)][\"event\"].tolist()\n",
    "\n",
    "metrics = evaluate_recommendations(actuals, cb_predictions, not_interested, k=K)\n",
    "\n",
    "print(f\"\\n{'='*50}\")\n",
    "print(f\"CONTENT-BASED RESULTS @ K={K}\")\n",
    "print(f\"{'='*50}\")\n",
    "for metric, value in metrics.items():\n",
    "    print(f\"{metric:20s}: {value:.5f}\")\n",
    "print(f\"{'='*50}\")"
   ]
  },
  {
   "cell_type": "markdown",
   "metadata": {},
   "source": [
    "## 6. Hyperparameter Tuning: geo_top_k\n",
    "\n",
    "Test different values of geo_top_k to understand the impact of geographic filtering on performance."
   ]
  },
  {
   "cell_type": "code",
   "execution_count": 12,
   "metadata": {},
   "outputs": [
    {
     "name": "stdout",
     "output_type": "stream",
     "text": [
      "\n",
      "============================================================\n",
      "Testing geo_top_k = 500\n",
      "============================================================\n",
      "Training model with geo_top_k=500...\n",
      "Evaluating on 100 users...\n",
      "Recall@200: 0.04743\n",
      "Hit_Rate@200: 0.09000\n",
      "Time: 250.4s (~4.2 min)\n",
      "\n",
      "============================================================\n",
      "Testing geo_top_k = 1000\n",
      "============================================================\n",
      "Training model with geo_top_k=1000...\n",
      "Evaluating on 100 users...\n",
      "Recall@200: 0.10376\n",
      "Hit_Rate@200: 0.16000\n",
      "Time: 319.2s (~5.3 min)\n",
      "\n",
      "============================================================\n",
      "Testing geo_top_k = 2000\n",
      "============================================================\n",
      "Training model with geo_top_k=2000...\n",
      "Evaluating on 100 users...\n",
      "Recall@200: 0.10376\n",
      "Hit_Rate@200: 0.15000\n",
      "Time: 327.8s (~5.5 min)\n",
      "\n",
      "============================================================\n",
      "Testing geo_top_k = 3000\n",
      "============================================================\n",
      "Training model with geo_top_k=3000...\n",
      "Evaluating on 100 users...\n",
      "Recall@200: 0.06343\n",
      "Hit_Rate@200: 0.11000\n",
      "Time: 334.8s (~5.6 min)\n",
      "\n",
      "============================================================\n",
      "Testing geo_top_k = 5000\n",
      "============================================================\n",
      "Training model with geo_top_k=5000...\n",
      "Evaluating on 100 users...\n",
      "Recall@200: 0.04876\n",
      "Hit_Rate@200: 0.07000\n",
      "Time: 342.0s (~5.7 min)\n",
      "\n",
      "============================================================\n",
      "SUMMARY OF RESULTS - geo_top_k\n",
      "============================================================\n",
      "geo_top_k       Recall@K        Hit_Rate@K     \n",
      "---------------------------------------------\n",
      "500             0.04743         0.09000        \n",
      "1000            0.10376         0.16000        \n",
      "2000            0.10376         0.15000        \n",
      "3000            0.06343         0.11000        \n",
      "5000            0.04876         0.07000        \n"
     ]
    }
   ],
   "source": [
    "import time\n",
    "\n",
    "geo_top_k_to_test = [500, 1000, 2000, 3000, 5000]\n",
    "\n",
    "results_geo = []\n",
    "\n",
    "for idx, geo_k in enumerate(geo_top_k_to_test, 1):\n",
    "    print(f\"\\n{'='*60}\")\n",
    "    print(f\"Testing geo_top_k = {geo_k}\")\n",
    "    print(f\"{'='*60}\")\n",
    "    \n",
    "    params = {\n",
    "        \"weight_purchase\": 3.0,\n",
    "        \"weight_interested\": 1.0,\n",
    "        \"temporal_decay\": 0.01,\n",
    "        \"geo_top_k\": geo_k\n",
    "    }\n",
    "    \n",
    "    start_time = time.time()\n",
    "    \n",
    "    print(f\"Training model with geo_top_k={geo_k}...\")\n",
    "    model = ContentBasedRecommender(**params)\n",
    "    model.fit(events, train_df, event_attendees)\n",
    "    \n",
    "    print(f\"Evaluating on {len(test_users)} users...\")\n",
    "    predictions = {}\n",
    "    for user in test_users:\n",
    "        predictions[user] = model.recommend(user, n=K, exclude_seen=True)\n",
    "    \n",
    "    metrics = evaluate_recommendations(actuals, predictions, not_interested, k=K)\n",
    "    \n",
    "    elapsed = time.time() - start_time\n",
    "    \n",
    "    results_geo.append({\n",
    "        \"geo_top_k\": geo_k,\n",
    "        \"recall\": metrics[\"Recall@K\"],\n",
    "        \"hit_rate\": metrics[\"Hit_Rate@K\"],\n",
    "        \"contamination\": metrics[\"Contamination@K\"]\n",
    "    })\n",
    "    \n",
    "    print(f\"Recall@{K}: {metrics['Recall@K']:.5f}\")\n",
    "    print(f\"Hit_Rate@{K}: {metrics['Hit_Rate@K']:.5f}\")\n",
    "    print(f\"Time: {elapsed:.1f}s (~{elapsed/60:.1f} min)\")\n",
    "\n",
    "print(f\"\\n{'='*60}\")\n",
    "print(\"SUMMARY OF RESULTS - geo_top_k\")\n",
    "print(f\"{'='*60}\")\n",
    "print(f\"{'geo_top_k':<15} {'Recall@K':<15} {'Hit_Rate@K':<15}\")\n",
    "print(f\"{'-'*45}\")\n",
    "for r in results_geo:\n",
    "    print(f\"{r['geo_top_k']:<15} {r['recall']:<15.5f} {r['hit_rate']:<15.5f}\")"
   ]
  },
  {
   "cell_type": "markdown",
   "metadata": {},
   "source": [
    "## 7. Hyperparameter Tuning: temporal_decay\n",
    "\n",
    "Test different values of temporal_decay to understand how much older interactions should be discounted."
   ]
  },
  {
   "cell_type": "code",
   "execution_count": 13,
   "metadata": {},
   "outputs": [
    {
     "name": "stdout",
     "output_type": "stream",
     "text": [
      "\n",
      "============================================================\n",
      "Testing temporal_decay = 0.0\n",
      "============================================================\n",
      "Training model with temporal_decay=0.0...\n",
      "Evaluating on 100 users...\n",
      "Recall@200: 0.06010\n",
      "Hit_Rate@200: 0.10000\n",
      "\n",
      "============================================================\n",
      "Testing temporal_decay = 0.001\n",
      "============================================================\n",
      "Training model with temporal_decay=0.001...\n",
      "Evaluating on 100 users...\n",
      "Recall@200: 0.06343\n",
      "Hit_Rate@200: 0.11000\n",
      "\n",
      "============================================================\n",
      "Testing temporal_decay = 0.01\n",
      "============================================================\n",
      "Training model with temporal_decay=0.01...\n",
      "Evaluating on 100 users...\n",
      "Recall@200: 0.06343\n",
      "Hit_Rate@200: 0.11000\n",
      "\n",
      "============================================================\n",
      "Testing temporal_decay = 0.05\n",
      "============================================================\n",
      "Training model with temporal_decay=0.05...\n",
      "Evaluating on 100 users...\n",
      "Recall@200: 0.06343\n",
      "Hit_Rate@200: 0.11000\n",
      "\n",
      "============================================================\n",
      "Testing temporal_decay = 0.1\n",
      "============================================================\n",
      "Training model with temporal_decay=0.1...\n",
      "Evaluating on 100 users...\n",
      "Recall@200: 0.06343\n",
      "Hit_Rate@200: 0.11000\n",
      "\n",
      "============================================================\n",
      "SUMMARY OF RESULTS - temporal_decay\n",
      "============================================================\n",
      "temporal_decay  Recall@K        Hit_Rate@K     \n",
      "---------------------------------------------\n",
      "0.000           0.06010         0.10000        \n",
      "0.001           0.06343         0.11000        \n",
      "0.010           0.06343         0.11000        \n",
      "0.050           0.06343         0.11000        \n",
      "0.100           0.06343         0.11000        \n"
     ]
    }
   ],
   "source": [
    "temporal_decay_to_test = [0.0, 0.001, 0.01, 0.05, 0.1]\n",
    "\n",
    "results_decay = []\n",
    "\n",
    "for decay in temporal_decay_to_test:\n",
    "    print(f\"\\n{'='*60}\")\n",
    "    print(f\"Testing temporal_decay = {decay}\")\n",
    "    print(f\"{'='*60}\")\n",
    "    \n",
    "    params = {\n",
    "        \"weight_purchase\": 3.0,\n",
    "        \"weight_interested\": 1.0,\n",
    "        \"temporal_decay\": decay,\n",
    "        \"geo_top_k\": 3000\n",
    "    }\n",
    "    \n",
    "    print(f\"Training model with temporal_decay={decay}...\")\n",
    "    model = ContentBasedRecommender(**params)\n",
    "    model.fit(events, train_df, event_attendees)\n",
    "    \n",
    "    print(f\"Evaluating on {len(test_users)} users...\")\n",
    "    predictions = {}\n",
    "    for user in test_users:\n",
    "        predictions[user] = model.recommend(user, n=K, exclude_seen=True)\n",
    "    \n",
    "    metrics = evaluate_recommendations(actuals, predictions, not_interested, k=K)\n",
    "    \n",
    "    results_decay.append({\n",
    "        \"temporal_decay\": decay,\n",
    "        \"recall\": metrics[\"Recall@K\"],\n",
    "        \"hit_rate\": metrics[\"Hit_Rate@K\"],\n",
    "        \"contamination\": metrics[\"Contamination@K\"]\n",
    "    })\n",
    "    \n",
    "    print(f\"Recall@{K}: {metrics['Recall@K']:.5f}\")\n",
    "    print(f\"Hit_Rate@{K}: {metrics['Hit_Rate@K']:.5f}\")\n",
    "\n",
    "print(f\"\\n{'='*60}\")\n",
    "print(\"SUMMARY OF RESULTS - temporal_decay\")\n",
    "print(f\"{'='*60}\")\n",
    "print(f\"{'temporal_decay':<15} {'Recall@K':<15} {'Hit_Rate@K':<15}\")\n",
    "print(f\"{'-'*45}\")\n",
    "for r in results_decay:\n",
    "    print(f\"{r['temporal_decay']:<15.3f} {r['recall']:<15.5f} {r['hit_rate']:<15.5f}\")"
   ]
  }
 ],
 "metadata": {
  "kernelspec": {
   "display_name": "event-recsys-mvp",
   "language": "python",
   "name": "python3"
  },
  "language_info": {
   "codemirror_mode": {
    "name": "ipython",
    "version": 3
   },
   "file_extension": ".py",
   "mimetype": "text/x-python",
   "name": "python",
   "nbconvert_exporter": "python",
   "pygments_lexer": "ipython3",
   "version": "3.8.20"
  }
 },
 "nbformat": 4,
 "nbformat_minor": 4
}
